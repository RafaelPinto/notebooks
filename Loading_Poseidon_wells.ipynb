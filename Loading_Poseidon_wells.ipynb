{
 "cells": [
  {
   "cell_type": "markdown",
   "metadata": {},
   "source": [
    "# Data source\n",
    "\n",
    "The data in this example are the Poseidon NW Shelf Australia, from GEOScience Australia, kindly provided and [hosted by ConocoPhillips (COC)](https://drive.google.com/drive/folders/1s7y9mFMZN9YgsqXSw2WnyOYrNwqUoEbc).\n",
    "\n",
    "In particular, we will be using the spliced logs, kindly provided by [occam technology](https://drive.google.com/drive/folders/1Dc-F-zYswKqGuto8-3dmQD8LjPgZ8AJk)"
   ]
  },
  {
   "cell_type": "code",
   "execution_count": 6,
   "metadata": {},
   "outputs": [
    {
     "name": "stdout",
     "output_type": "stream",
     "text": [
      "Loading_Poseidon_wells.ipynb\r\n",
      "Spliced_well_logs_provided_by_occam_technology\r\n",
      "Spliced well logs provided by occam technology -20180808T151605Z-001.zip\r\n"
     ]
    }
   ],
   "source": [
    "!ls"
   ]
  },
  {
   "cell_type": "code",
   "execution_count": 7,
   "metadata": {},
   "outputs": [
    {
     "name": "stdout",
     "output_type": "stream",
     "text": [
      "Boreas1Decim.LAS    PoseidonNorth1Decim.LAS\r\n",
      "Kronos1Decim.LAS    Proteus1Decim.LAS\r\n",
      "Pharos1Decim.LAS    public wells poseidon 3D Petrel project.zip\r\n",
      "Poseidon1Decim.LAS  README FIRST.docx\r\n",
      "Poseidon2Decim.LAS  Torosa1LDecim.LAS\r\n"
     ]
    }
   ],
   "source": [
    "!ls Spliced_well_logs_provided_by_occam_technology"
   ]
  },
  {
   "cell_type": "code",
   "execution_count": 8,
   "metadata": {},
   "outputs": [
    {
     "data": {
      "text/plain": [
       "['Spliced_well_logs_provided_by_occam_technology/PoseidonNorth1Decim.LAS',\n",
       " 'Spliced_well_logs_provided_by_occam_technology/Boreas1Decim.LAS',\n",
       " 'Spliced_well_logs_provided_by_occam_technology/Poseidon2Decim.LAS',\n",
       " 'Spliced_well_logs_provided_by_occam_technology/Torosa1LDecim.LAS',\n",
       " 'Spliced_well_logs_provided_by_occam_technology/Pharos1Decim.LAS',\n",
       " 'Spliced_well_logs_provided_by_occam_technology/Kronos1Decim.LAS',\n",
       " 'Spliced_well_logs_provided_by_occam_technology/Poseidon1Decim.LAS',\n",
       " 'Spliced_well_logs_provided_by_occam_technology/Proteus1Decim.LAS']"
      ]
     },
     "execution_count": 8,
     "metadata": {},
     "output_type": "execute_result"
    }
   ],
   "source": [
    "import glob\n",
    "\n",
    "# get list of file names\n",
    "las_file_names = glob.glob(\"Spliced_well_logs_provided_by_occam_technology/*.LAS\")\n",
    "las_file_names"
   ]
  },
  {
   "cell_type": "code",
   "execution_count": 9,
   "metadata": {},
   "outputs": [
    {
     "data": {
      "text/plain": [
       "['PoseidonNorth1Decim',\n",
       " 'Boreas1Decim',\n",
       " 'Poseidon2Decim',\n",
       " 'Torosa1LDecim',\n",
       " 'Pharos1Decim',\n",
       " 'Kronos1Decim',\n",
       " 'Poseidon1Decim',\n",
       " 'Proteus1Decim']"
      ]
     },
     "execution_count": 9,
     "metadata": {},
     "output_type": "execute_result"
    }
   ],
   "source": [
    "import re\n",
    "\n",
    "# extract well name between '/' and '.'\n",
    "las_well_names = [re.search(r'(?<=/).*?(?=\\.)', name).group(0) for name in file_names] \n",
    "las_well_names"
   ]
  },
  {
   "cell_type": "code",
   "execution_count": 10,
   "metadata": {},
   "outputs": [],
   "source": [
    "import lasio\n",
    "\n",
    "las_wells = {}\n",
    "\n",
    "for file, well in zip(las_file_names, las_well_names):\n",
    "    las = lasio.read(file)\n",
    "    las_wells[well] = las"
   ]
  },
  {
   "cell_type": "code",
   "execution_count": 39,
   "metadata": {},
   "outputs": [
    {
     "data": {
      "text/plain": [
       "array([nan, nan, nan, ..., nan, nan, nan])"
      ]
     },
     "execution_count": 39,
     "metadata": {},
     "output_type": "execute_result"
    }
   ],
   "source": [
    "las_wells['Poseidon1Decim']['DTCO']"
   ]
  },
  {
   "cell_type": "code",
   "execution_count": 32,
   "metadata": {},
   "outputs": [
    {
     "data": {
      "text/plain": [
       "8"
      ]
     },
     "execution_count": 32,
     "metadata": {},
     "output_type": "execute_result"
    }
   ],
   "source": [
    "# How many LAS files were loaded?\n",
    "len(las_wells)"
   ]
  },
  {
   "cell_type": "code",
   "execution_count": 33,
   "metadata": {},
   "outputs": [
    {
     "data": {
      "text/plain": [
       "['Boreas1Decim',\n",
       " 'Kronos1Decim',\n",
       " 'Pharos1Decim',\n",
       " 'Poseidon1Decim',\n",
       " 'Poseidon2Decim',\n",
       " 'PoseidonNorth1Decim',\n",
       " 'Proteus1Decim',\n",
       " 'Torosa1LDecim']"
      ]
     },
     "execution_count": 33,
     "metadata": {},
     "output_type": "execute_result"
    }
   ],
   "source": [
    "# Show me the names of the LAS wells loaded sorted alphabetically\n",
    "sorted(list(las_wells.keys()))"
   ]
  },
  {
   "cell_type": "code",
   "execution_count": 44,
   "metadata": {},
   "outputs": [
    {
     "data": {
      "text/plain": [
       "dict_keys(['Version', 'Well', 'Curves', 'Parameter', 'Other'])"
      ]
     },
     "execution_count": 44,
     "metadata": {},
     "output_type": "execute_result"
    }
   ],
   "source": [
    "las_wells['Poseidon1Decim'].sections.keys()"
   ]
  },
  {
   "cell_type": "code",
   "execution_count": 45,
   "metadata": {},
   "outputs": [
    {
     "data": {
      "text/plain": [
       "[HeaderItem(mnemonic=VERS, unit=, value=2.0, descr=CWLS log ASCII Standard -V...),\n",
       " HeaderItem(mnemonic=WRAP, unit=, value=NO, descr=One line per depth step)]"
      ]
     },
     "execution_count": 45,
     "metadata": {},
     "output_type": "execute_result"
    }
   ],
   "source": [
    "las_wells['Poseidon1Decim'].sections['Version']"
   ]
  },
  {
   "cell_type": "code",
   "execution_count": 46,
   "metadata": {},
   "outputs": [
    {
     "data": {
      "text/plain": [
       "[HeaderItem(mnemonic=STRT, unit=M, value=579.5, descr=START DEPTH),\n",
       " HeaderItem(mnemonic=STOP, unit=M, value=5115.5, descr=STOP DEPTH),\n",
       " HeaderItem(mnemonic=STEP, unit=M, value=0.5, descr=STEP),\n",
       " HeaderItem(mnemonic=NULL, unit=, value=-999.25, descr=NULL VALUE),\n",
       " HeaderItem(mnemonic=COMP, unit=, value=ConocoPhillips, descr=COMPANY),\n",
       " HeaderItem(mnemonic=WELL, unit=, value=Poseidon 1, descr=WELL),\n",
       " HeaderItem(mnemonic=FLD, unit=, value=Exploration, descr=FIELD),\n",
       " HeaderItem(mnemonic=LOC, unit=, value=, descr=LOCATION),\n",
       " HeaderItem(mnemonic=PROV, unit=, value=, descr=PROVINCE),\n",
       " HeaderItem(mnemonic=SRVC, unit=, value=Schlumberger D&M, descr=SERVICE COMPANY),\n",
       " HeaderItem(mnemonic=CTRY, unit=, value=, descr=COUNTRY),\n",
       " HeaderItem(mnemonic=DATE, unit=, value=28-Apr-09, descr=LOG DATE),\n",
       " HeaderItem(mnemonic=UWI, unit=, value=, descr=UNIQUE WELL ID),\n",
       " HeaderItem(mnemonic=LATI, unit=DEG, value=-13/37/16.79, descr=Latitude),\n",
       " HeaderItem(mnemonic=LONG, unit=DEG, value=122/18/23.99, descr=Longitude),\n",
       " HeaderItem(mnemonic=GDAT, unit=, value=, descr=Geodetic Datum)]"
      ]
     },
     "execution_count": 46,
     "metadata": {},
     "output_type": "execute_result"
    }
   ],
   "source": [
    "las_wells['Poseidon1Decim'].sections['Well']"
   ]
  },
  {
   "cell_type": "code",
   "execution_count": 48,
   "metadata": {},
   "outputs": [
    {
     "data": {
      "text/plain": [
       "[CurveItem(mnemonic=DEPT, unit=M, value=, descr=Along hole depth, original_mnemonic=DEPT, data.shape=(9073,)),\n",
       " CurveItem(mnemonic=ECGR, unit=gAPI, value=, descr=EDTC Corrected Gamma-Ray, original_mnemonic=ECGR, data.shape=(9073,)),\n",
       " CurveItem(mnemonic=ATRX, unit=ohm.m, value=, descr=Array Induction Two Foot Rxo, original_mnemonic=ATRX, data.shape=(9073,)),\n",
       " CurveItem(mnemonic=ATRT, unit=ohm.m, value=, descr=Array Induction Two Foot Rt, original_mnemonic=ATRT, data.shape=(9073,)),\n",
       " CurveItem(mnemonic=NPHI, unit=pu, value=, descr=Thermal Neutron Porosity (Ratio Method), original_mnemonic=NPHI, data.shape=(9073,)),\n",
       " CurveItem(mnemonic=CAL1, unit=in, value=, descr=Caliper 1, original_mnemonic=CAL1, data.shape=(9073,)),\n",
       " CurveItem(mnemonic=HDAR, unit=in, value=, descr=Hole Diameter from Area, original_mnemonic=HDAR, data.shape=(9073,)),\n",
       " CurveItem(mnemonic=HROM, unit=g/cm3, value=, descr=LDS High Resolution Corrected Bulk Density, original_mnemonic=HROM, data.shape=(9073,)),\n",
       " CurveItem(mnemonic=DTSM, unit=us/ft, value=, descr=Delta-T Shear, original_mnemonic=DTSM, data.shape=(9073,)),\n",
       " CurveItem(mnemonic=DTCO, unit=us/ft, value=, descr=Delta-T Compressional, original_mnemonic=DTCO, data.shape=(9073,))]"
      ]
     },
     "execution_count": 48,
     "metadata": {},
     "output_type": "execute_result"
    }
   ],
   "source": [
    "las_wells['Poseidon1Decim'].sections['Curves']"
   ]
  },
  {
   "cell_type": "code",
   "execution_count": 50,
   "metadata": {},
   "outputs": [
    {
     "data": {
      "text/plain": [
       "[]"
      ]
     },
     "execution_count": 50,
     "metadata": {},
     "output_type": "execute_result"
    }
   ],
   "source": [
    "las_wells['Poseidon1Decim'].sections['Parameter']"
   ]
  },
  {
   "cell_type": "code",
   "execution_count": 51,
   "metadata": {},
   "outputs": [
    {
     "data": {
      "text/plain": [
       "''"
      ]
     },
     "execution_count": 51,
     "metadata": {},
     "output_type": "execute_result"
    }
   ],
   "source": [
    "las_wells['Poseidon1Decim'].sections['Other']"
   ]
  },
  {
   "cell_type": "code",
   "execution_count": null,
   "metadata": {},
   "outputs": [],
   "source": []
  }
 ],
 "metadata": {
  "kernelspec": {
   "display_name": "Python 3",
   "language": "python",
   "name": "python3"
  },
  "language_info": {
   "codemirror_mode": {
    "name": "ipython",
    "version": 3
   },
   "file_extension": ".py",
   "mimetype": "text/x-python",
   "name": "python",
   "nbconvert_exporter": "python",
   "pygments_lexer": "ipython3",
   "version": "3.6.6"
  }
 },
 "nbformat": 4,
 "nbformat_minor": 2
}
